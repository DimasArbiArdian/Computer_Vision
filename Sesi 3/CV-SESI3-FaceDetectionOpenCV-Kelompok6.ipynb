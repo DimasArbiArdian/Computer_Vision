{
 "cells": [
  {
   "cell_type": "markdown",
   "metadata": {
    "id": "o47YfqoeJjL9"
   },
   "source": []
  },
  {
   "cell_type": "code",
   "execution_count": 21,
   "metadata": {
    "colab": {
     "base_uri": "https://localhost:8080/"
    },
    "executionInfo": {
     "elapsed": 9868,
     "status": "ok",
     "timestamp": 1727267251239,
     "user": {
      "displayName": "IVANA LUCIA KHARISMA",
      "userId": "00310291050108345428"
     },
     "user_tz": -420
    },
    "id": "Rc1p_wKqHoU5",
    "outputId": "818fbc70-413d-4b6e-99ab-bc31675ab255"
   },
   "outputs": [
    {
     "name": "stdout",
     "output_type": "stream",
     "text": [
      "Requirement already satisfied: opencv-python in c:\\users\\ags computer\\anaconda3\\lib\\site-packages (4.10.0.84)\n",
      "Requirement already satisfied: numpy>=1.19.3 in c:\\users\\ags computer\\anaconda3\\lib\\site-packages (from opencv-python) (1.21.5)\n"
     ]
    }
   ],
   "source": [
    "!pip install opencv-python"
   ]
  },
  {
   "cell_type": "code",
   "execution_count": 22,
   "metadata": {
    "executionInfo": {
     "elapsed": 1586,
     "status": "ok",
     "timestamp": 1727267305013,
     "user": {
      "displayName": "IVANA LUCIA KHARISMA",
      "userId": "00310291050108345428"
     },
     "user_tz": -420
    },
    "id": "ZnQu1HcMHoU_"
   },
   "outputs": [],
   "source": [
    "import cv2\n",
    "\n",
    "face_classifier = cv2.CascadeClassifier(\n",
    "    cv2.data.haarcascades + \"haarcascade_frontalface_default.xml\"\n",
    ")\n",
    "smile_classifier = cv2.CascadeClassifier(\n",
    "    cv2.data.haarcascades + \"haarcascade_smile.xml\"\n",
    ")\n",
    "eye_classifier = cv2.CascadeClassifier(\n",
    "    cv2.data.haarcascades + \"haarcascade_eye.xml\"\n",
    ")\n",
    "glasses_classifier = cv2.CascadeClassifier(\n",
    "    cv2.data.haarcascades + \"haarcascade_eye_tree_eyeglasses.xml\"\n",
    ")"
   ]
  },
  {
   "cell_type": "code",
   "execution_count": 23,
   "metadata": {
    "executionInfo": {
     "elapsed": 11,
     "status": "ok",
     "timestamp": 1727267309741,
     "user": {
      "displayName": "IVANA LUCIA KHARISMA",
      "userId": "00310291050108345428"
     },
     "user_tz": -420
    },
    "id": "dX_7AIdwHoVA"
   },
   "outputs": [],
   "source": [
    "video_capture = cv2.VideoCapture(0)"
   ]
  },
  {
   "cell_type": "code",
   "execution_count": 24,
   "metadata": {
    "executionInfo": {
     "elapsed": 693,
     "status": "ok",
     "timestamp": 1727267313375,
     "user": {
      "displayName": "IVANA LUCIA KHARISMA",
      "userId": "00310291050108345428"
     },
     "user_tz": -420
    },
    "id": "fzpeCsnhHoVB"
   },
   "outputs": [],
   "source": [
    "def detect_bounding_box(vid):\n",
    "    gray_image = cv2.cvtColor(vid, cv2.COLOR_BGR2GRAY)\n",
    "    faces = face_classifier.detectMultiScale(gray_image, 1.3, 5, minSize=(40, 40))\n",
    "    for (x, y, w, h) in faces:\n",
    "        cv2.rectangle(vid, (x, y), (x + w, y + h), (255, 0, 0), 2)\n",
    "        cv2.putText(vid, 'Face', (x, y - 10), cv2.FONT_HERSHEY_SIMPLEX, 0.9, (255, 0, 0), 2)\n",
    "        \n",
    "        # Region of interest (ROI) for detecting eyes, smile, and eyeglasses within the face\n",
    "        roi_gray = gray_image[y:y + h, x:x + w]\n",
    "        roi_color = vid[y:y + h, x:x + w]\n",
    "\n",
    "        # Detect eyes within the face region\n",
    "        eyes = eye_classifier.detectMultiScale(roi_gray, 1.1, 22)\n",
    "        glasses = glasses_classifier.detectMultiScale(roi_gray, 1.1, 22)\n",
    "        \n",
    "        if len(eyes) > 0:\n",
    "            for (ex, ey, ew, eh) in eyes:\n",
    "                cv2.rectangle(roi_color, (ex, ey), (ex + ew, ey + eh), (0, 255, 0), 2)\n",
    "                cv2.putText(roi_color, 'Eye', (ex, ey - 10), cv2.FONT_HERSHEY_SIMPLEX, 0.6, (0, 255, 0), 2)\n",
    "\n",
    "        # Detect glasses within the face region\n",
    "        elif len(glasses) > 0:\n",
    "            for (gx, gy, gw, gh) in glasses:\n",
    "                cv2.rectangle(roi_color, (gx, gy), (gx + gw, gy + gh), (255, 255, 0), 2)\n",
    "                cv2.putText(roi_color, 'Glasses', (gx, gy - 10), cv2.FONT_HERSHEY_SIMPLEX, 0.6, (255, 255, 0), 2)\n",
    "        else:\n",
    "            # If no eyes or glasses detected, assume no glasses\n",
    "            cv2.putText(roi_color, 'with Glasses', (10, 30), cv2.FONT_HERSHEY_SIMPLEX, 0.9, (0, 255, 255), 2)\n",
    "        \n",
    "        # Detect smile within the face region\n",
    "        smiles = smile_classifier.detectMultiScale(roi_gray, 1.7, 22)\n",
    "        for (sx, sy, sw, sh) in smiles:\n",
    "            cv2.rectangle(roi_color, (sx, sy), (sx + sw, sy + sh), (0, 0, 255), 2)\n",
    "            cv2.putText(roi_color, 'Smile', (sx, sy - 10), cv2.FONT_HERSHEY_SIMPLEX, 0.6, (0, 0, 255), 2)\n",
    "    return faces"
   ]
  },
  {
   "cell_type": "code",
   "execution_count": 25,
   "metadata": {
    "executionInfo": {
     "elapsed": 540,
     "status": "ok",
     "timestamp": 1727267319956,
     "user": {
      "displayName": "IVANA LUCIA KHARISMA",
      "userId": "00310291050108345428"
     },
     "user_tz": -420
    },
    "id": "YhzCIQgTHoVB"
   },
   "outputs": [],
   "source": [
    "while True:\n",
    "\n",
    "    result, video_frame = video_capture.read()  # read frames from the video\n",
    "    if result is False:\n",
    "        break  # terminate the loop if the frame is not read successfully\n",
    "\n",
    "    faces = detect_bounding_box(\n",
    "        video_frame\n",
    "    )  # apply the function we created to the video frame\n",
    "\n",
    "    cv2.imshow(\n",
    "        \"Face, Eyes, Smile, and Glasses Detection\", video_frame\n",
    "    )  # display the processed frame in a window named \"My Face Detection Project\"\n",
    "\n",
    "    if cv2.waitKey(1) & 0xFF == ord(\"q\"):\n",
    "        break\n",
    "\n",
    "video_capture.release()\n",
    "cv2.destroyAllWindows()"
   ]
  },
  {
   "cell_type": "code",
   "execution_count": null,
   "metadata": {},
   "outputs": [],
   "source": []
  }
 ],
 "metadata": {
  "colab": {
   "provenance": []
  },
  "kernelspec": {
   "display_name": "Python 3 (ipykernel)",
   "language": "python",
   "name": "python3"
  },
  "language_info": {
   "codemirror_mode": {
    "name": "ipython",
    "version": 3
   },
   "file_extension": ".py",
   "mimetype": "text/x-python",
   "name": "python",
   "nbconvert_exporter": "python",
   "pygments_lexer": "ipython3",
   "version": "3.9.12"
  }
 },
 "nbformat": 4,
 "nbformat_minor": 1
}
